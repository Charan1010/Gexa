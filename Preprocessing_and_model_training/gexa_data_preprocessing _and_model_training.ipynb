{
  "nbformat": 4,
  "nbformat_minor": 0,
  "metadata": {
    "colab": {
      "name": "Untitled2.ipynb",
      "version": "0.3.2",
      "provenance": []
    },
    "kernelspec": {
      "name": "python3",
      "display_name": "Python 3"
    },
    "accelerator": "GPU"
  },
  "cells": [
    {
      "metadata": {
        "id": "w7fzRB_z7yuA",
        "colab_type": "code",
        "colab": {}
      },
      "cell_type": "code",
      "source": [
        "import numpy as np\n",
        "import pandas as pd"
      ],
      "execution_count": 0,
      "outputs": []
    },
    {
      "metadata": {
        "id": "88id2V2t8IJO",
        "colab_type": "code",
        "colab": {}
      },
      "cell_type": "code",
      "source": [
        "from google.colab import drive"
      ],
      "execution_count": 0,
      "outputs": []
    },
    {
      "metadata": {
        "id": "cvCx0Qbd8M94",
        "colab_type": "code",
        "outputId": "d7f95085-d4e8-481d-f195-20b668542940",
        "colab": {
          "base_uri": "https://localhost:8080/",
          "height": 34
        }
      },
      "cell_type": "code",
      "source": [
        "drive.mount(\"/content/drive\")"
      ],
      "execution_count": 0,
      "outputs": [
        {
          "output_type": "stream",
          "text": [
            "Drive already mounted at /content/drive; to attempt to forcibly remount, call drive.mount(\"/content/drive\", force_remount=True).\n"
          ],
          "name": "stdout"
        }
      ]
    },
    {
      "metadata": {
        "id": "nlrJQPF-8QnF",
        "colab_type": "code",
        "outputId": "ed6ccd5c-9223-4a99-8adc-ea8d6d870d1b",
        "colab": {
          "base_uri": "https://localhost:8080/",
          "height": 34
        }
      },
      "cell_type": "code",
      "source": [
        "cd  \"/content/drive/My Drive/colab\""
      ],
      "execution_count": 0,
      "outputs": [
        {
          "output_type": "stream",
          "text": [
            "/content/drive/My Drive/colab\n"
          ],
          "name": "stdout"
        }
      ]
    },
    {
      "metadata": {
        "id": "T94jZ4_K8oZJ",
        "colab_type": "code",
        "outputId": "92e22c0b-c15e-4412-8b4a-5ccbefd3df49",
        "colab": {
          "base_uri": "https://localhost:8080/",
          "height": 221
        }
      },
      "cell_type": "code",
      "source": [
        "ls\n"
      ],
      "execution_count": 0,
      "outputs": [
        {
          "output_type": "stream",
          "text": [
            "abc.png             out.png           Step4_asian.png     Test2.jpg\n",
            "Anospecs_asian.png  photo1.jpg        Step5_asian.png     test_3.jpg\n",
            "Bebe_asian.png      photo.jpg         Step6_asian.png     test3.jpg\n",
            "Big_asian.png       second_asian.png  Step7_asian.png     test_4.jpg\n",
            "bw_image.png        Shades_asian.png  Step8_asian.png     test_asian.png\n",
            "first_asian.png     Shawn_asian.png   Step9_asian.png     test.jpg\n",
            "Four_asian.png      Spects_asian.png  Teeth_asian.png     test_mw.jpg\n",
            "GAN_mnist.ipynb     \u001b[0m\u001b[01;34mstatic\u001b[0m/           Teethboy_asian.png  testx.jpg\n",
            "\u001b[01;34mimages\u001b[0m/             Step10_asian.png  test_0.jpg          Third_asian.png\n",
            "Justin_asian.png    Step1_asian.png   test_1.jpg\n",
            "\u001b[01;34mmodel\u001b[0m/              Step2_asian.png   Test2_asian.png\n",
            "Nick_asian.png      Step3_asian.png   test_2.jpg\n"
          ],
          "name": "stdout"
        }
      ]
    },
    {
      "metadata": {
        "id": "E8epaC1Y8ptC",
        "colab_type": "code",
        "outputId": "08339db2-c08e-40fa-de99-add2331fcda1",
        "colab": {
          "base_uri": "https://localhost:8080/",
          "height": 34
        }
      },
      "cell_type": "code",
      "source": [
        "cd static"
      ],
      "execution_count": 0,
      "outputs": [
        {
          "output_type": "stream",
          "text": [
            "/content/drive/My Drive/colab/static\n"
          ],
          "name": "stdout"
        }
      ]
    },
    {
      "metadata": {
        "id": "b79OZOJn8sKP",
        "colab_type": "code",
        "outputId": "fe2e7b14-3513-47a2-84a4-5ba6fef76ef2",
        "colab": {
          "base_uri": "https://localhost:8080/",
          "height": 221
        }
      },
      "cell_type": "code",
      "source": [
        "ls\n"
      ],
      "execution_count": 0,
      "outputs": [
        {
          "output_type": "stream",
          "text": [
            "abc.png             out.png           Step4_asian.png     Test2.jpg\n",
            "Anospecs_asian.png  photo1.jpg        Step5_asian.png     test_3.jpg\n",
            "Bebe_asian.png      photo.jpg         Step6_asian.png     test3.jpg\n",
            "Big_asian.png       second_asian.png  Step7_asian.png     test_4.jpg\n",
            "bw_image.png        Shades_asian.png  Step8_asian.png     test_asian.png\n",
            "first_asian.png     Shawn_asian.png   Step9_asian.png     test.jpg\n",
            "Four_asian.png      Spects_asian.png  Teeth_asian.png     test_mw.jpg\n",
            "GAN_mnist.ipynb     \u001b[0m\u001b[01;34mstatic\u001b[0m/           Teethboy_asian.png  testx.jpg\n",
            "\u001b[01;34mimages\u001b[0m/             Step10_asian.png  test_0.jpg          Third_asian.png\n",
            "Justin_asian.png    Step1_asian.png   test_1.jpg\n",
            "\u001b[01;34mmodel\u001b[0m/              Step2_asian.png   Test2_asian.png\n",
            "Nick_asian.png      Step3_asian.png   test_2.jpg\n"
          ],
          "name": "stdout"
        }
      ]
    },
    {
      "metadata": {
        "id": "Q__QUeEoDJED",
        "colab_type": "code",
        "colab": {}
      },
      "cell_type": "code",
      "source": [
        "Y = np.zeros(y.shape[0])\n",
        "Y[:204] = 9\n",
        "Y[204:409] = 0\n",
        "Y[409:615] = 7\n",
        "Y[615:822] = 6\n",
        "Y[822:1028] = 1\n",
        "Y[1028:1236] = 8\n",
        "Y[1236:1443] = 4\n",
        "Y[1443:1649] = 3\n",
        "Y[1649:1855] = 2\n",
        "Y[1855:] = 5\n",
        "X_train, X_test, y_train, y_test = train_test_split(x, Y, test_size = .02, random_state = 2) ## splitting into train and test set"
      ],
      "execution_count": 0,
      "outputs": []
    },
    {
      "metadata": {
        "id": "gAyxazo1H3NL",
        "colab_type": "code",
        "colab": {}
      },
      "cell_type": "code",
      "source": [
        "import numpy as np # linear algebra\n",
        "import pandas as pd # data processing, CSV file I/O (e.g. pd.read_csv)\n",
        "from keras.models import Sequential\n",
        "from keras.layers import Dense, Activation, Dropout, Flatten, Input, Conv2D, MaxPooling2D, BatchNormalization\n",
        "from keras import optimizers\n",
        "from keras.preprocessing.image import ImageDataGenerator\n",
        "import matplotlib.pyplot as plt\n",
        "\n",
        "# Input data files are available in the \"../input/\" directory.\n",
        "# For example, running this (by clicking run or pressing Shift+Enter) will list the files in the input directory\n",
        "\n",
        "import os\n",
        "#print(os.listdir(\"../input/Sign-language-digits-dataset\"))"
      ],
      "execution_count": 0,
      "outputs": []
    },
    {
      "metadata": {
        "id": "ufjsnmibP93N",
        "colab_type": "code",
        "colab": {}
      },
      "cell_type": "code",
      "source": [
        "X=np.load('static/sign/X.npy')\n",
        "y=np.load('static/sign/Y.npy')"
      ],
      "execution_count": 0,
      "outputs": []
    },
    {
      "metadata": {
        "id": "SXK5EiuuKrXw",
        "colab_type": "code",
        "outputId": "c2a7ed78-f161-4a37-b0aa-c11922678a62",
        "colab": {
          "base_uri": "https://localhost:8080/",
          "height": 302
        }
      },
      "cell_type": "code",
      "source": [
        "print('X shape : {}  Y shape: {}'.format(X.shape, y.shape))\n",
        "\n",
        "plt.imshow(X[0], cmap='gray')\n",
        "print(y[0]) # one-hot labels starting at zero"
      ],
      "execution_count": 0,
      "outputs": [
        {
          "output_type": "stream",
          "text": [
            "X shape : (2062, 64, 64)  Y shape: (2062, 10)\n",
            "[1. 0. 0. 0. 0. 0. 0. 0. 0. 0.]\n"
          ],
          "name": "stdout"
        },
        {
          "output_type": "display_data",
          "data": {
            "image/png": "[encoded data removed]",
            "text/plain": [
              "<Figure size 432x288 with 1 Axes>"
            ]
          },
          "metadata": {
            "tags": []
          }
        }
      ]
    },
    {
      "metadata": {
        "id": "-WCCx0nyK5hU",
        "colab_type": "code",
        "colab": {}
      },
      "cell_type": "code",
      "source": [
        "datagen = ImageDataGenerator(\n",
        "    rotation_range=16,\n",
        "    width_shift_range=0.12,\n",
        "    height_shift_range=0.12,\n",
        "    zoom_range=0.12\n",
        "    )"
      ],
      "execution_count": 0,
      "outputs": []
    },
    {
      "metadata": {
        "id": "qG4vCTQwK8Mh",
        "colab_type": "code",
        "colab": {}
      },
      "cell_type": "code",
      "source": [
        "from sklearn.model_selection import train_test_split\n",
        "\n",
        "Xtrain, Xtest, ytrain, ytest = train_test_split(X, y, test_size=0.2, random_state=8)\n",
        "# add another axis representing grey-scale\n",
        "Xtest = Xtest[:,:,:,np.newaxis]\n",
        "Xtrain=Xtrain[:,:,:,np.newaxis]\n"
      ],
      "execution_count": 0,
      "outputs": []
    },
    {
      "metadata": {
        "id": "fddOGOveK9yd",
        "colab_type": "code",
        "colab": {}
      },
      "cell_type": "code",
      "source": [
        "datagen.fit(Xtrain)"
      ],
      "execution_count": 0,
      "outputs": []
    },
    {
      "metadata": {
        "id": "uWbBJGjxLAao",
        "colab_type": "code",
        "colab": {}
      },
      "cell_type": "code",
      "source": [
        "model = Sequential()\n",
        "\n",
        "# Convolutional Blocks: (1) Convolution, (2) Activation, (3) Pooling\n",
        "model.add(Conv2D(input_shape=(64, 64, 1), filters=64, kernel_size=(4,4), strides=(2)))\n",
        "model.add(Activation('relu'))\n",
        "#outputs a (20, 20, 32) matrix\n",
        "model.add(Conv2D(filters=64, kernel_size=(4,4), strides=(1)))\n",
        "model.add(Activation('relu'))\n",
        "#outputs a (8, 8, 32) matrix\n",
        "model.add(MaxPooling2D(pool_size=4))\n",
        "\n",
        "# dropout helps with over fitting by randomly dropping nodes each epoch\n",
        "model.add(Dropout(0.3))\n",
        "\n",
        "model.add(Flatten())\n",
        "model.add(Dense(256, activation='relu'))\n",
        "model.add(BatchNormalization())\n",
        "\n",
        "model.add(Dense(10, activation='softmax'))"
      ],
      "execution_count": 0,
      "outputs": []
    },
    {
      "metadata": {
        "id": "CSL6pwi0LCrd",
        "colab_type": "code",
        "outputId": "cf51f142-0e1a-4050-cd27-703b26ac890c",
        "colab": {
          "base_uri": "https://localhost:8080/",
          "height": 357
        }
      },
      "cell_type": "code",
      "source": [
        "model.compile(loss='categorical_crossentropy',\n",
        "             optimizer=optimizers.Adadelta(),\n",
        "             metrics=['accuracy'])\n",
        "model.fit(Xtrain, ytrain, batch_size=32, epochs=10)\n",
        "\n",
        "score = model.evaluate(Xtest, ytest, verbose=0)"
      ],
      "execution_count": 0,
      "outputs": [
        {
          "output_type": "stream",
          "text": [
            "Epoch 1/10\n",
            "1649/1649 [==============================] - 2s 1ms/step - loss: 1.4738 - acc: 0.4961\n",
            "Epoch 2/10\n",
            "1649/1649 [==============================] - 1s 540us/step - loss: 0.6374 - acc: 0.7865\n",
            "Epoch 3/10\n",
            "1649/1649 [==============================] - 1s 535us/step - loss: 0.4339 - acc: 0.8757\n",
            "Epoch 4/10\n",
            "1649/1649 [==============================] - 1s 543us/step - loss: 0.3171 - acc: 0.9084\n",
            "Epoch 5/10\n",
            "1649/1649 [==============================] - 1s 528us/step - loss: 0.2525 - acc: 0.9224\n",
            "Epoch 6/10\n",
            "1649/1649 [==============================] - 1s 524us/step - loss: 0.1774 - acc: 0.9478\n",
            "Epoch 7/10\n",
            "1649/1649 [==============================] - 1s 506us/step - loss: 0.1586 - acc: 0.9497\n",
            "Epoch 8/10\n",
            "1649/1649 [==============================] - 1s 513us/step - loss: 0.1273 - acc: 0.9612\n",
            "Epoch 9/10\n",
            "1649/1649 [==============================] - 1s 512us/step - loss: 0.0947 - acc: 0.9721\n",
            "Epoch 10/10\n",
            "1649/1649 [==============================] - 1s 502us/step - loss: 0.0735 - acc: 0.9782\n"
          ],
          "name": "stdout"
        }
      ]
    },
    {
      "metadata": {
        "id": "cn2PnHXcLVQq",
        "colab_type": "code",
        "outputId": "bb69ca5e-05a3-4745-b62c-698a5e9d14ee",
        "colab": {
          "base_uri": "https://localhost:8080/",
          "height": 336
        }
      },
      "cell_type": "code",
      "source": [
        "test_image = Xtest[60]\n",
        "test_image_array = test_image.reshape(64, 64)\n",
        "test_image = np.expand_dims(test_image, axis = 0)\n",
        "print(test_image.shape)\n",
        "result = model.predict(test_image)\n",
        "print(result)\n",
        "\n",
        "plt.imshow(test_image_array, cmap='gray')\n"
      ],
      "execution_count": 0,
      "outputs": [
        {
          "output_type": "stream",
          "text": [
            "(1, 64, 64, 1)\n",
            "[[4.8092108e-05 2.5654372e-04 1.7850519e-06 1.6114325e-05 8.3100786e-05\n",
            "  5.3612289e-06 1.8405444e-04 6.5337094e-03 2.1592291e-06 9.9286908e-01]]\n"
          ],
          "name": "stdout"
        },
        {
          "output_type": "execute_result",
          "data": {
            "text/plain": [
              "<matplotlib.image.AxesImage at 0x7f69cbdd84e0>"
            ]
          },
          "metadata": {
            "tags": []
          },
          "execution_count": 346
        },
        {
          "output_type": "display_data",
          "data": {
            "image/png": "[encoded data removed]",
            "text/plain": [
              "<Figure size 432x288 with 1 Axes>"
            ]
          },
          "metadata": {
            "tags": []
          }
        }
      ]
    },
    {
      "metadata": {
        "id": "1p1jZbKlLpiK",
        "colab_type": "code",
        "outputId": "30ff0b6d-f351-44c8-f970-4215188e0c76",
        "colab": {
          "base_uri": "https://localhost:8080/",
          "height": 51
        }
      },
      "cell_type": "code",
      "source": [
        "print(np.round(result, 1))\n",
        "print(ytest[60])\n"
      ],
      "execution_count": 0,
      "outputs": [
        {
          "output_type": "stream",
          "text": [
            "[[0. 0. 0. 0. 0. 0. 0. 0. 0. 1.]]\n",
            "[0. 0. 0. 0. 0. 0. 0. 0. 0. 1.]\n"
          ],
          "name": "stdout"
        }
      ]
    },
    {
      "metadata": {
        "id": "uumFhzw56qUL",
        "colab_type": "code",
        "colab": {}
      },
      "cell_type": "code",
      "source": [
        "#testing the recognition output\n"
      ],
      "execution_count": 0,
      "outputs": []
    },
    {
      "metadata": {
        "id": "oJ5XX1L2LseN",
        "colab_type": "code",
        "colab": {}
      },
      "cell_type": "code",
      "source": [
        "from IPython.display import HTML, Image\n",
        "from google.colab.output import eval_js\n",
        "from base64 import b64decode\n",
        "\n",
        "VIDEO_HTML = \"\"\"\n",
        "<video autoplay\n",
        " width=500 height=500></video>\n",
        "<script>\n",
        "var video = document.querySelector('video')\n",
        "navigator.mediaDevices.getUserMedia({ video: true })\n",
        "  .then(stream=> video.srcObject = stream)\n",
        "  \n",
        "var data = new Promise(resolve=>{\n",
        "  video.onclick = ()=>{\n",
        "    var canvas = document.createElement('canvas')\n",
        "    var [w,h] = [video.offsetWidth, video.offsetHeight]\n",
        "    canvas.width = 64\n",
        "    canvas.height = 64\n",
        "    canvas.getContext('2d')\n",
        "          .drawImage(video, 0, 0, w, h)\n",
        "    video.srcObject.getVideoTracks()[0].stop()\n",
        "    video.replaceWith(canvas)\n",
        "    resolve(canvas.toDataURL('image/jpeg', %f))\n",
        "  }\n",
        "})\n",
        "</script>\n",
        "\"\"\"\n",
        "def take_photo(filename='test_0.jpg', quality=1.0):\n",
        "  display(HTML(VIDEO_HTML % quality))\n",
        "  data = eval_js(\"data\")\n",
        "  binary = b64decode(data.split(',')[1])\n",
        "  with open(filename, 'wb') as f:\n",
        "    f.write(binary)\n",
        "  return len(binary)"
      ],
      "execution_count": 0,
      "outputs": []
    },
    {
      "metadata": {
        "id": "UTa2vVKzR2sZ",
        "colab_type": "code",
        "colab": {}
      },
      "cell_type": "code",
      "source": [
        "take_photo()"
      ],
      "execution_count": 0,
      "outputs": []
    },
    {
      "metadata": {
        "id": "-Ck71Xr0TXil",
        "colab_type": "code",
        "colab": {}
      },
      "cell_type": "code",
      "source": [
        "from skimage import color\n",
        "from skimage import io\n",
        "\n",
        "img = color.rgb2gray(io.imread('test_0.jpg'))\n"
      ],
      "execution_count": 0,
      "outputs": []
    },
    {
      "metadata": {
        "id": "_hmM1L8KUlbP",
        "colab_type": "code",
        "outputId": "42ddaea1-05d0-452b-e044-34172f48f3c8",
        "colab": {
          "base_uri": "https://localhost:8080/",
          "height": 336
        }
      },
      "cell_type": "code",
      "source": [
        "test_image = img\n",
        "test_image_array = test_image.reshape(64, 64)\n",
        "test_image = np.expand_dims(test_image, axis = 0)\n",
        "test_image = np.expand_dims(test_image, axis = 3)\n",
        "\n",
        "print(test_image.shape)\n",
        "result = model.predict(test_image)\n",
        "print(result)\n",
        "plt.imshow(test_image_array, cmap='gray')"
      ],
      "execution_count": 0,
      "outputs": [
        {
          "output_type": "stream",
          "text": [
            "(1, 64, 64, 1)\n",
            "[[2.5967625e-04 9.7724867e-01 5.6275805e-03 4.9945619e-03 2.8082638e-03\n",
            "  6.3550281e-03 1.2675974e-03 1.9922944e-04 1.1610377e-03 7.8337798e-05]]\n"
          ],
          "name": "stdout"
        },
        {
          "output_type": "execute_result",
          "data": {
            "text/plain": [
              "<matplotlib.image.AxesImage at 0x7f69cbdafc18>"
            ]
          },
          "metadata": {
            "tags": []
          },
          "execution_count": 351
        },
        {
          "output_type": "display_data",
          "data": {
            "image/png": "[encoded data removed]",
            "text/plain": [
              "<Figure size 432x288 with 1 Axes>"
            ]
          },
          "metadata": {
            "tags": []
          }
        }
      ]
    },
    {
      "metadata": {
        "id": "HXpd2sSWdayj",
        "colab_type": "code",
        "outputId": "bffaa203-4bcf-4b56-e72e-aa3a8511cbe4",
        "colab": {
          "base_uri": "https://localhost:8080/",
          "height": 52
        }
      },
      "cell_type": "code",
      "source": [
        "print(np.round(result, 1))\n"
      ],
      "execution_count": 0,
      "outputs": [
        {
          "output_type": "stream",
          "text": [
            "[[0.3 0.3 0.  0.  0.  0.1 0.3 0.  0.  0. ]]\n",
            "[0. 0. 0. 0. 1. 0. 0. 0. 0. 0.]\n"
          ],
          "name": "stdout"
        }
      ]
    },
    {
      "metadata": {
        "id": "62DkUB4GQ6IT",
        "colab_type": "code",
        "colab": {}
      },
      "cell_type": "code",
      "source": [
        "from keras.models import load_model\n",
        "\n",
        "model.save('gexa_model.h5')"
      ],
      "execution_count": 0,
      "outputs": []
    },
    {
      "metadata": {
        "id": "FKmDUYyjRdG9",
        "colab_type": "code",
        "outputId": "a8e9a345-171d-4067-8bb9-691c6307e5da",
        "colab": {
          "base_uri": "https://localhost:8080/",
          "height": 122
        }
      },
      "cell_type": "code",
      "source": [
        "!pip install pygame"
      ],
      "execution_count": 0,
      "outputs": [
        {
          "output_type": "stream",
          "text": [
            "Collecting pygame\n",
            "\u001b[?25l  Downloading https://files.pythonhosted.org/packages/b3/5e/fb7c85304ad1fd52008fd25fce97a7f59e6147ae97378afc86cf0f5d9146/pygame-1.9.4-cp36-cp36m-manylinux1_x86_64.whl (12.1MB)\n",
            "\u001b[K    100% |████████████████████████████████| 12.1MB 4.6MB/s \n",
            "\u001b[?25hInstalling collected packages: pygame\n",
            "Successfully installed pygame-1.9.4\n"
          ],
          "name": "stdout"
        }
      ]
    },
    {
      "metadata": {
        "id": "ndsqMMT-Jfg2",
        "colab_type": "code",
        "colab": {}
      },
      "cell_type": "code",
      "source": [
        "s=set([1,2])"
      ],
      "execution_count": 0,
      "outputs": []
    },
    {
      "metadata": {
        "id": "xgnjkw-mPqz5",
        "colab_type": "code",
        "outputId": "f3aaed50-22e2-4372-fa14-5e4f344fba63",
        "colab": {
          "base_uri": "https://localhost:8080/",
          "height": 34
        }
      },
      "cell_type": "code",
      "source": [
        "set([3,3,3,2,2,2,1,1,1])"
      ],
      "execution_count": 0,
      "outputs": [
        {
          "output_type": "execute_result",
          "data": {
            "text/plain": [
              "{1, 2, 3}"
            ]
          },
          "metadata": {
            "tags": []
          },
          "execution_count": 5
        }
      ]
    },
    {
      "metadata": {
        "id": "ut_QwqDePw7o",
        "colab_type": "code",
        "outputId": "ea27b5f5-4870-43e6-b4c5-4d2cc287fbb7",
        "colab": {
          "base_uri": "https://localhost:8080/",
          "height": 34
        }
      },
      "cell_type": "code",
      "source": [
        "len(s)"
      ],
      "execution_count": 0,
      "outputs": [
        {
          "output_type": "execute_result",
          "data": {
            "text/plain": [
              "2"
            ]
          },
          "metadata": {
            "tags": []
          },
          "execution_count": 6
        }
      ]
    },
    {
      "metadata": {
        "id": "XvejMczxP9sB",
        "colab_type": "code",
        "colab": {}
      },
      "cell_type": "code",
      "source": [
        ""
      ],
      "execution_count": 0,
      "outputs": []
    }
  ]
}